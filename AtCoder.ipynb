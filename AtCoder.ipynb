{
  "nbformat": 4,
  "nbformat_minor": 0,
  "metadata": {
    "colab": {
      "name": "AtCoder.ipynb",
      "provenance": [],
      "authorship_tag": "ABX9TyO2qfebz8fQjxuIps07wjED",
      "include_colab_link": true
    },
    "kernelspec": {
      "name": "python3",
      "display_name": "Python 3"
    }
  },
  "cells": [
    {
      "cell_type": "markdown",
      "metadata": {
        "id": "view-in-github",
        "colab_type": "text"
      },
      "source": [
        "<a href=\"https://colab.research.google.com/github/gohh56/atcoder-practice/blob/main/AtCoder.ipynb\" target=\"_parent\"><img src=\"https://colab.research.google.com/assets/colab-badge.svg\" alt=\"Open In Colab\"/></a>"
      ]
    },
    {
      "cell_type": "code",
      "metadata": {
        "id": "-X-E_fiVEmSd",
        "outputId": "e336de71-6daa-4b57-de52-edcc31db9dff",
        "colab": {
          "base_uri": "https://localhost:8080/",
          "height": 51
        }
      },
      "source": [
        "a, b, c = map(int, input().split())\n",
        "x = a - b + c\n",
        "print(x)"
      ],
      "execution_count": 2,
      "outputs": [
        {
          "output_type": "stream",
          "text": [
            "100 1 2\n",
            "101\n"
          ],
          "name": "stdout"
        }
      ]
    },
    {
      "cell_type": "code",
      "metadata": {
        "id": "XJjrVUZWGRDs",
        "outputId": "3c3c85c9-21c2-4300-8fd2-41d3c87346f5",
        "colab": {
          "base_uri": "https://localhost:8080/",
          "height": 85
        }
      },
      "source": [
        "# -*- coding: utf-8 -*-\n",
        "# 整数の入力\n",
        "a = int(input())\n",
        "# スペース区切りの整数の入力\n",
        "b, c = map(int, input().split())\n",
        "# 文字列の入力\n",
        "s = input()\n",
        "# 出力\n",
        "print(\"{} {}\".format(a+b+c, s))"
      ],
      "execution_count": 3,
      "outputs": [
        {
          "output_type": "stream",
          "text": [
            "1\n",
            "2 3\n",
            "test\n",
            "6 test\n"
          ],
          "name": "stdout"
        }
      ]
    }
  ]
}